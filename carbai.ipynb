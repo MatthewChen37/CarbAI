{
 "cells": [
  {
   "cell_type": "code",
   "execution_count": 1,
   "id": "d7042c05",
   "metadata": {
    "collapsed": false
   },
   "outputs": [],
   "source": [
    "import numpy as np\n",
    "import pandas as pd\n",
    "import tensorflow as tf"
   ]
  },
  {
   "cell_type": "code",
   "execution_count": null,
   "id": "bd45f25d",
   "metadata": {
    "collapsed": false
   },
   "outputs": [],
   "source": []
  }
 ],
 "metadata": {
  "kernelspec": {
   "argv": [
    "/home/jusrat/miniconda3/bin/python",
    "-m",
    "ipykernel_launcher",
    "-f",
    "{connection_file}"
   ],
   "display_name": "Python [conda env:root] *",
   "env": null,
   "interrupt_mode": "signal",
   "language": "python",
   "metadata": {
    "conda_env_name": "root",
    "conda_env_path": "/home/jusrat/miniconda3"
   },
   "name": "conda-root-py"
  },
  "name": "carbai.ipynb"
 },
 "nbformat": 4,
 "nbformat_minor": 5
}
